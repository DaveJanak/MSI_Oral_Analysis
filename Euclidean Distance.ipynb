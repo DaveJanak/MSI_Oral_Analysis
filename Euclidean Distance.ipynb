{
 "cells": [
  {
   "cell_type": "code",
   "execution_count": 38,
   "metadata": {},
   "outputs": [],
   "source": [
    "import numpy as np\n",
    "from scipy.spatial.distance import cosine\n",
    "from scipy.stats import f_oneway\n",
    "import pandas as pd\n",
    "from scipy.spatial.distance import euclidean\n",
    "from scipy.stats import f_oneway"
   ]
  },
  {
   "cell_type": "code",
   "execution_count": 39,
   "metadata": {},
   "outputs": [],
   "source": [
    "file_paths = [\n",
    "    r\"C:\\Users\\htic\\Documents\\Jupyter\\MSI_Oral_Analysis\\OSCC.xlsx\",\n",
    "    r\"C:\\Users\\htic\\Documents\\Jupyter\\MSI_Oral_Analysis\\Leuko.xlsx\",\n",
    "    r\"C:\\Users\\htic\\Documents\\Jupyter\\MSI_Oral_Analysis\\OSMF.xlsx\",\n",
    "    r\"C:\\Users\\htic\\Documents\\Jupyter\\MSI_Oral_Analysis\\HS.xlsx\",\n",
    "    r\"C:\\Users\\htic\\Documents\\Jupyter\\MSI_Oral_Analysis\\HC.xlsx\"\n",
    "]\n",
    "\n",
    "# Iterate through the file paths and create separate variables for each file\n",
    "for file_path in file_paths:\n",
    "    # Extract the file name without the path and extension\n",
    "    file_name = os.path.splitext(os.path.basename(file_path))[0]\n",
    "\n",
    "    # Read the Excel file into a DataFrame\n",
    "    df = pd.read_excel(file_path)\n",
    "\n",
    "    # Convert the DataFrame into a NumPy array\n",
    "    np_array = df.to_numpy()\n",
    "\n",
    "    # Create a separate variable with the file name and assign the NumPy array\n",
    "    exec(f\"{file_name} = np_array\")"
   ]
  },
  {
   "cell_type": "code",
   "execution_count": 43,
   "metadata": {},
   "outputs": [
    {
     "name": "stdout",
     "output_type": "stream",
     "text": [
      "Mean Distance between OSCC vs Healthy_Control: 0.47288282104332624, STD: 0.06460425885358416\n",
      "Mean Distance between OSCC vs Leuko: 10.6555151038155, STD: 3.520990731206299\n",
      "Mean Distance between OSCC vs OSMF: 17.41913649960717, STD: 5.716817625182225\n",
      "Mean Distance between OSCC vs Healthy_Smokers: 54.02766615068857, STD: 23.388963258032465\n",
      "One-way ANOVA results:\n",
      "F-value: 2131.98602171033\n",
      "p-value: 2.7066116248896676e-184\n"
     ]
    }
   ],
   "source": [
    "################ Eculidean Distance between each classes ################\n",
    "class5_data = HS\n",
    "class4_data = OSMF\n",
    "class3_data = Leuko  # Class 1 samples (shape: 20x16)\n",
    "class2_data = HC  # Class 2 samples (shape: 20x16)\n",
    "class1_data = OSCC  # Class 3 samples (shape: 20x16)\n",
    "# print(len(class3_data), type(class3_data[0]))\n",
    "# print(len(class2_data), type(class2_data[0]))\n",
    "# print(len(class1_data), type(class1_data[0]))\n",
    "# Calculate spectral distances between pairs of samples using Euclidean distance\n",
    "distances_class1 = []\n",
    "distances_class2 = []\n",
    "distances_class3 = []\n",
    "distances_class4 = []\n",
    "for i in range(len(class1_data)):\n",
    "    for j in range(len(class2_data)):\n",
    "        distances_class1.append(euclidean(class1_data[i], class2_data[j]))\n",
    "    for j in range(len(class3_data)):\n",
    "        distances_class2.append(euclidean(class1_data[i], class3_data[j]))\n",
    "    for j in range(len(class4_data)):\n",
    "        distances_class3.append(euclidean(class1_data[i], class4_data[j]))\n",
    "    for j in range(len(class5_data)):\n",
    "        distances_class4.append(euclidean(class1_data[i], class5_data[j]))\n",
    "\n",
    "# Perform one-way ANOVA\n",
    "f_value, p_value = f_oneway(distances_class1, distances_class2)\n",
    "print(f\"Mean Distance between OSCC vs Healthy_Control: {np.mean(distances_class1)}, STD: {np.std(distances_class1)}\")\n",
    "print(f\"Mean Distance between OSCC vs Leuko: {np.mean(distances_class2)}, STD: {np.std(distances_class2)}\")\n",
    "print(f\"Mean Distance between OSCC vs OSMF: {np.mean(distances_class3)}, STD: {np.std(distances_class3)}\")\n",
    "print(f\"Mean Distance between OSCC vs Healthy_Smokers: {np.mean(distances_class4)}, STD: {np.std(distances_class4)}\")\n",
    "\n",
    "# Print the results\n",
    "print(\"One-way ANOVA results:\")\n",
    "print(\"F-value:\", f_value)\n",
    "print(\"p-value:\", p_value)"
   ]
  },
  {
   "cell_type": "code",
   "execution_count": null,
   "metadata": {},
   "outputs": [],
   "source": [
    "############# Previous experiment with different xlsx file #############"
   ]
  },
  {
   "cell_type": "code",
   "execution_count": 42,
   "metadata": {},
   "outputs": [
    {
     "name": "stdout",
     "output_type": "stream",
     "text": [
      "Euclidean distance between OSCC and Leukoplakia: 0.14829324765470267\n",
      "Euclidean distance between OSCC and OSMF: 0.27314473581254817\n",
      "Euclidean distance between OSCC and Healthy (Smoker): 1.6315349678808488\n",
      "Euclidean distance between OSCC and Healthy (Control): 1.0169163397115752\n"
     ]
    }
   ],
   "source": [
    "file_paths = [\n",
    "    r\"C:\\Users\\htic\\Documents\\Jupyter\\MSI_Oral_Analysis\\OSCC in Buccal.xlsx\",\n",
    "    r\"C:\\Users\\htic\\Documents\\Jupyter\\MSI_Oral_Analysis\\Leukoplakia in Buccal.xlsx\",\n",
    "    r\"C:\\Users\\htic\\Documents\\Jupyter\\MSI_Oral_Analysis\\OSMF in Buccal.xlsx\",\n",
    "    r\"C:\\Users\\htic\\Documents\\Jupyter\\MSI_Oral_Analysis\\Healthy (Smoker) in Buccal.xlsx\",\n",
    "    r\"C:\\Users\\htic\\Documents\\Jupyter\\MSI_Oral_Analysis\\Healthy (Control) in Buccal.xlsx\"\n",
    "]\n",
    "\n",
    "# Create an empty dictionary to store mean spectra\n",
    "mean_spectra = {}\n",
    "\n",
    "# Read and process each file\n",
    "for file_path in file_paths:\n",
    "    # Extract the category from the file name\n",
    "    category = file_path.split(\"\\\\\")[-1].split(\" in \")[0]\n",
    "\n",
    "    # Read the Excel file\n",
    "    df = pd.read_excel(file_path)\n",
    "\n",
    "    # Extract the \"normalized mean spectrum\" column as a NumPy array\n",
    "    mean_spectrum = df[\"Normalized Mean Spectrum\"].values\n",
    "\n",
    "    # Store the mean spectrum in the dictionary\n",
    "    mean_spectra[category] = mean_spectrum\n",
    "\n",
    "# Calculate the Euclidean distance between categories and OSCC\n",
    "oscc_mean = mean_spectra[\"OSCC\"]\n",
    "distances = {}\n",
    "for category, mean in mean_spectra.items():\n",
    "    if category != \"OSCC\":\n",
    "        distance = np.linalg.norm(oscc_mean - mean)\n",
    "        distances[category] = distance\n",
    "\n",
    "# Print the distances\n",
    "for category, distance in distances.items():\n",
    "    print(f\"Euclidean distance between OSCC and {category}: {distance}\")"
   ]
  }
 ],
 "metadata": {
  "kernelspec": {
   "display_name": "Python 3",
   "language": "python",
   "name": "python3"
  },
  "language_info": {
   "codemirror_mode": {
    "name": "ipython",
    "version": 3
   },
   "file_extension": ".py",
   "mimetype": "text/x-python",
   "name": "python",
   "nbconvert_exporter": "python",
   "pygments_lexer": "ipython3",
   "version": "3.10.11"
  }
 },
 "nbformat": 4,
 "nbformat_minor": 2
}
